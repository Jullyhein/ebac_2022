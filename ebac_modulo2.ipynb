{
  "nbformat": 4,
  "nbformat_minor": 0,
  "metadata": {
    "colab": {
      "provenance": [],
      "authorship_tag": "ABX9TyPbTIZ1Jyks+B0ZUiuCfFul",
      "include_colab_link": true
    },
    "kernelspec": {
      "name": "python3",
      "display_name": "Python 3"
    },
    "language_info": {
      "name": "python"
    }
  },
  "cells": [
    {
      "cell_type": "markdown",
      "metadata": {
        "id": "view-in-github",
        "colab_type": "text"
      },
      "source": [
        "<a href=\"https://colab.research.google.com/github/Jullyhein/ebac_2022/blob/main/ebac_modulo2.ipynb\" target=\"_parent\"><img src=\"https://colab.research.google.com/assets/colab-badge.svg\" alt=\"Open In Colab\"/></a>"
      ]
    },
    {
      "cell_type": "markdown",
      "source": [
        "Revisitando a motivação"
      ],
      "metadata": {
        "id": "agN_zd2Mz2Lh"
      }
    },
    {
      "cell_type": "code",
      "source": [
        "dia_11_inicial = 1000 #começou com esse saldo"
      ],
      "metadata": {
        "id": "tvLfyv-04NA2"
      },
      "execution_count": 12,
      "outputs": []
    },
    {
      "cell_type": "code",
      "source": [
        "dia_11_transacoes = []\n",
        "\n",
        "dia_11_transacoes.append(550)\n",
        "dia_11_transacoes.append(-758.68)\n",
        "dia_11_transacoes.append(234)\n",
        "dia_11_transacoes.append(-10.91)\n",
        "\n",
        "print(dia_11_transacoes)"
      ],
      "metadata": {
        "colab": {
          "base_uri": "https://localhost:8080/"
        },
        "id": "pST4bLDZ3pcO",
        "outputId": "491e1e2e-5520-4f2a-8e38-7672bcdff88e"
      },
      "execution_count": 13,
      "outputs": [
        {
          "output_type": "stream",
          "name": "stdout",
          "text": [
            "[550, -758.68, 234, -10.91]\n"
          ]
        }
      ]
    },
    {
      "cell_type": "code",
      "execution_count": 14,
      "metadata": {
        "colab": {
          "base_uri": "https://localhost:8080/"
        },
        "id": "-lUKZ6wwOjJZ",
        "outputId": "034ec791-2e42-4ef9-9429-94a62bbe86af"
      },
      "outputs": [
        {
          "output_type": "stream",
          "name": "stdout",
          "text": [
            "1014.4100000000002\n"
          ]
        }
      ],
      "source": [
        "dia_11_final = dia_11_inicial + dia_11_transacoes[0] + dia_11_transacoes[1] + dia_11_transacoes[2] +dia_11_transacoes[3]\n",
        "print(dia_11_final)"
      ]
    },
    {
      "cell_type": "code",
      "source": [],
      "metadata": {
        "id": "9fpCMihPz5hI"
      },
      "execution_count": null,
      "outputs": []
    },
    {
      "cell_type": "markdown",
      "source": [
        "CONCATENAÇÃO - EX: Fabricantes de hardware mobile. "
      ],
      "metadata": {
        "id": "WH2o2GpRz6QJ"
      }
    },
    {
      "cell_type": "code",
      "source": [
        "fabricantes_china = ['xiaomi', 'huawei']\n",
        "fabricantes_eua = ['apple', 'motorola']\n",
        "fabricantes_mobile = fabricantes_china + fabricantes_eua\n",
        "\n",
        "print(fabricantes_china)\n",
        "print(fabricantes_eua)\n",
        "print(fabricantes_mobile)"
      ],
      "metadata": {
        "colab": {
          "base_uri": "https://localhost:8080/"
        },
        "id": "kdEwP7F10Eza",
        "outputId": "26e8b815-59b9-4a03-a3e2-35ab5213ff5f"
      },
      "execution_count": 2,
      "outputs": [
        {
          "output_type": "stream",
          "name": "stdout",
          "text": [
            "['xiaomi', 'huawei']\n",
            "['apple', 'motorola']\n",
            "['xiaomi', 'huawei', 'apple', 'motorola']\n"
          ]
        }
      ]
    },
    {
      "cell_type": "markdown",
      "source": [
        "Fatiamento por intervalo:"
      ],
      "metadata": {
        "id": "_IDYWUFg0qSA"
      }
    },
    {
      "cell_type": "code",
      "source": [
        "fabricantes_china = fabricantes_mobile[0:2]\n",
        "fabricantes_eua = fabricantes_mobile[2: len(fabricantes_mobile)]\n",
        "\n",
        "print('China: ' +str(fabricantes_china))\n",
        "print('EUA: '+str(fabricantes_eua))"
      ],
      "metadata": {
        "colab": {
          "base_uri": "https://localhost:8080/"
        },
        "id": "tq-broff0n4P",
        "outputId": "fd87a07d-c16c-4e7d-a770-b742612b31a6"
      },
      "execution_count": 4,
      "outputs": [
        {
          "output_type": "stream",
          "name": "stdout",
          "text": [
            "China: ['xiaomi', 'huawei']\n",
            "EUA: ['apple', 'motorola']\n"
          ]
        }
      ]
    },
    {
      "cell_type": "code",
      "source": [
        "fabricantes_mobile[2] = \"Nokia\"\n",
        "print(fabricantes_mobile)"
      ],
      "metadata": {
        "colab": {
          "base_uri": "https://localhost:8080/"
        },
        "id": "ly8TYbr31rCX",
        "outputId": "a12d458c-03d6-4cb5-bb10-0142b6571fc2"
      },
      "execution_count": 5,
      "outputs": [
        {
          "output_type": "stream",
          "name": "stdout",
          "text": [
            "['xiaomi', 'huawei', 'Nokia', 'motorola']\n"
          ]
        }
      ]
    },
    {
      "cell_type": "markdown",
      "source": [
        "O aplicativo do seu banco registra toda a sua movimentação financeira. O final do dia, o app consolida o saldo final para que você possa controlar sua vida nanceira.\n",
        "MÉTODOS - VERIFICANDO A TAXA DE JUROS"
      ],
      "metadata": {
        "id": "qQRFnLPv15qb"
      }
    },
    {
      "cell_type": "code",
      "source": [
        "norte_europa = {'reino unido', 'suecia', 'russia', 'noruega', 'dinamarca'}\n",
        "escandinavia = {'noruega', 'dinamarca', 'suecia'}\n",
        "\n",
        "norte_europa_nao_escandivano = norte_europa - escandinavia\n",
        "print(norte_europa_nao_escandivano)\n",
        "\n",
        "escandivano_nao_norte_europa = escandinavia - norte_europa\n",
        "print(escandivano_nao_norte_europa)"
      ],
      "metadata": {
        "colab": {
          "base_uri": "https://localhost:8080/"
        },
        "id": "gTcfh_hj15eZ",
        "outputId": "8da97bd2-aae7-47ef-b1f0-af0b4defbd7e"
      },
      "execution_count": 17,
      "outputs": [
        {
          "output_type": "stream",
          "name": "stdout",
          "text": [
            "{'reino unido', 'russia'}\n",
            "set()\n"
          ]
        }
      ]
    },
    {
      "cell_type": "markdown",
      "source": [
        "Adicionar e remover"
      ],
      "metadata": {
        "id": "c11nHIyu-CRp"
      }
    },
    {
      "cell_type": "code",
      "source": [
        "times_paulista = {'São Paulo', \"Palmeiras\", 'Corinthians', 'Santos'}\n",
        "times_paulista.remove('São Paulo')\n",
        "print(times_paulista)\n",
        "\n",
        "times_paulista = {'São Paulo', \"Palmeiras\", 'Corinthians', 'Santos'}\n",
        "times_paulista.add('Atlético')\n",
        "print(times_paulista)"
      ],
      "metadata": {
        "colab": {
          "base_uri": "https://localhost:8080/"
        },
        "id": "MMVtYUCl7vx2",
        "outputId": "4de87bdf-c722-4a5a-bbe8-26bd29e99890"
      },
      "execution_count": 20,
      "outputs": [
        {
          "output_type": "stream",
          "name": "stdout",
          "text": [
            "{'Corinthians', 'Santos', 'Palmeiras'}\n",
            "{'Atlético', 'Santos', 'Palmeiras', 'Corinthians', 'São Paulo'}\n",
            "['Atlético', 'Santos', 'Palmeiras', 'Corinthians', 'São Paulo']\n",
            "<class 'set'>\n"
          ]
        }
      ]
    },
    {
      "cell_type": "code",
      "source": [
        "print(list(times_paulista))\n",
        "print(type(list(times_paulista)))"
      ],
      "metadata": {
        "colab": {
          "base_uri": "https://localhost:8080/"
        },
        "id": "qTQGapxI-zeF",
        "outputId": "5ef62750-58f9-47a1-ac44-56fd2fd90be5"
      },
      "execution_count": 23,
      "outputs": [
        {
          "output_type": "stream",
          "name": "stdout",
          "text": [
            "['Atlético', 'Santos', 'Palmeiras', 'Corinthians', 'São Paulo']\n",
            "<class 'list'>\n"
          ]
        }
      ]
    },
    {
      "cell_type": "markdown",
      "source": [
        "Motivação: Você trabalha como analista de dados de mídias sociais e precisa descobrir todas as hashtags que alcançaram o top trending do Twitter durante uma semana. Você já conseguiu as hashtags"
      ],
      "metadata": {
        "id": "XvCXL2Gb-7SG"
      }
    },
    {
      "cell_type": "code",
      "source": [
        "hashtags_seg = ['#tiago', '#joao', '#bbb']\n",
        "hashtags_ter = ['#sarah', '#bbb', '#fiuk']\n",
        "hashtags_qua = ['#gil', '#thelma', '#lourdes']\n",
        "hashtags_qui = ['#rafa', '#fora', '#danilo']\n",
        "hashtags_sex = ['#juliete', '#arthur', '#bbb']"
      ],
      "metadata": {
        "id": "u9PJkbcF-7l8"
      },
      "execution_count": 24,
      "outputs": []
    },
    {
      "cell_type": "code",
      "source": [
        "hashtag_todas = hashtags_seg + hashtags_ter + hashtags_qua + hashtags_qui + hashtags_sex\n",
        "print(hashtag_todas)"
      ],
      "metadata": {
        "colab": {
          "base_uri": "https://localhost:8080/"
        },
        "id": "Rd0yjpSX_e_S",
        "outputId": "85cf04da-373e-40c3-9952-a8f48dcd894f"
      },
      "execution_count": 25,
      "outputs": [
        {
          "output_type": "stream",
          "name": "stdout",
          "text": [
            "['#tiago', '#joao', '#bbb', '#sarah', '#bbb', '#fiuk', '#gil', '#thelma', '#lourdes', '#rafa', '#fora', '#danilo', '#juliete', '#arthur', '#bbb']\n"
          ]
        }
      ]
    },
    {
      "cell_type": "code",
      "source": [
        "print(len(hashtag_todas))\n",
        "hashtag_todas = list(set(hashtag_todas))\n",
        "print(hashtag_todas)\n",
        "print(len(hashtag_todas))"
      ],
      "metadata": {
        "colab": {
          "base_uri": "https://localhost:8080/"
        },
        "id": "WdLsmwM9_uqF",
        "outputId": "50197606-2fac-442a-bffe-03df3387a587"
      },
      "execution_count": 30,
      "outputs": [
        {
          "output_type": "stream",
          "name": "stdout",
          "text": [
            "13\n",
            "['#fora', '#arthur', '#rafa', '#juliete', '#gil', '#fiuk', '#tiago', '#joao', '#thelma', '#bbb', '#sarah', '#lourdes', '#danilo']\n",
            "13\n"
          ]
        }
      ]
    },
    {
      "cell_type": "markdown",
      "source": [
        "DICIONÁRIOS"
      ],
      "metadata": {
        "id": "QLu2x85GBA9H"
      }
    },
    {
      "cell_type": "code",
      "source": [
        "wifi_disponíveis = ['rede1', 'cnx', 'claro', 'r3d3']\n",
        "print(wifi_disponíveis)"
      ],
      "metadata": {
        "colab": {
          "base_uri": "https://localhost:8080/"
        },
        "id": "PZ5hqioCBCMz",
        "outputId": "2881aca4-13c9-46b1-9916-8bb4566db4e8"
      },
      "execution_count": 31,
      "outputs": [
        {
          "output_type": "stream",
          "name": "stdout",
          "text": [
            "['rede1', 'cnx', 'claro', 'r3d3']\n"
          ]
        }
      ]
    },
    {
      "cell_type": "code",
      "source": [
        "brasil = {'capital': 'Brasília', 'idioma': 'Português', 'populacao': 210} #chave e valor\n",
        "print(brasil)\n",
        "print(type(brasil))"
      ],
      "metadata": {
        "colab": {
          "base_uri": "https://localhost:8080/"
        },
        "id": "aAdFwDQzCODO",
        "outputId": "80c0865b-2ed0-4ae2-e59f-31d9e8b36a3b"
      },
      "execution_count": 32,
      "outputs": [
        {
          "output_type": "stream",
          "name": "stdout",
          "text": [
            "{'capital': 'Brasília', 'idioma': 'Português', 'populacao': 210}\n",
            "<class 'dict'>\n"
          ]
        }
      ]
    },
    {
      "cell_type": "code",
      "source": [
        "#dict: nao permite chaves repetidas\n",
        "carro = {\n",
        "    'marca': 'Volkswagen',\n",
        "    'modelo': 'Polo',\n",
        "    'ano': 2021,\n",
        "    'ano': 2004\n",
        "}\n",
        "print(carro)"
      ],
      "metadata": {
        "colab": {
          "base_uri": "https://localhost:8080/"
        },
        "id": "guFa0LuvDEVR",
        "outputId": "aa7c6285-a1f1-4870-ccec-50465ea4bf11"
      },
      "execution_count": 33,
      "outputs": [
        {
          "output_type": "stream",
          "name": "stdout",
          "text": [
            "{'marca': 'Volkswagen', 'modelo': 'Polo', 'ano': 2004}\n"
          ]
        }
      ]
    },
    {
      "cell_type": "code",
      "source": [
        "#podemos criar dicinários compostos\n",
        "\n",
        "cadastro = {\n",
        "    'andre': {\n",
        "        'nome': 'Andre Perez', \n",
        "        'ano_nascimento': 1992, \n",
        "        'pais': {\n",
        "            'pai': {\n",
        "              'nome': '<nome-do-pai> Perez', \n",
        "              'ano_nascimento': 1971\n",
        "            },\n",
        "            'mae': {\n",
        "              'nome': '<nome-da-mae> Perez', \n",
        "              'ano_nascimento': 1973\n",
        "            },\n",
        "        }\n",
        "    }\n",
        "}\n",
        "print(cadastro)"
      ],
      "metadata": {
        "colab": {
          "base_uri": "https://localhost:8080/"
        },
        "id": "kCjfVaCHDSjA",
        "outputId": "1fc48b93-12b0-4847-ce01-9b447871262a"
      },
      "execution_count": 34,
      "outputs": [
        {
          "output_type": "stream",
          "name": "stdout",
          "text": [
            "{'andre': {'nome': 'Andre Perez', 'ano_nascimento': 1992, 'pais': {'pai': {'nome': '<nome-do-pai> Perez', 'ano_nascimento': 1971}, 'mae': {'nome': '<nome-da-mae> Perez', 'ano_nascimento': 1973}}}}\n"
          ]
        }
      ]
    },
    {
      "cell_type": "code",
      "source": [
        "cadastro['andre']['pais']['mae']['ano_nascimento']"
      ],
      "metadata": {
        "colab": {
          "base_uri": "https://localhost:8080/"
        },
        "id": "UBOS5GKTDj0U",
        "outputId": "c843a2f3-8e90-49ef-c69f-14cdc2cc25a0"
      },
      "execution_count": 35,
      "outputs": [
        {
          "output_type": "execute_result",
          "data": {
            "text/plain": [
              "1973"
            ]
          },
          "metadata": {},
          "execution_count": 35
        }
      ]
    },
    {
      "cell_type": "markdown",
      "source": [
        "Operações"
      ],
      "metadata": {
        "id": "g9Iq3GjHD10N"
      }
    },
    {
      "cell_type": "code",
      "source": [
        "credito = {'123': 888, '758': 990}\n",
        "print (credito)"
      ],
      "metadata": {
        "colab": {
          "base_uri": "https://localhost:8080/"
        },
        "id": "Jjy9tknrD1NT",
        "outputId": "753e2a7b-3f22-474d-a591-b3de076c41ca"
      },
      "execution_count": 39,
      "outputs": [
        {
          "output_type": "stream",
          "name": "stdout",
          "text": [
            "{'123': 888, '758': 990}\n"
          ]
        }
      ]
    },
    {
      "cell_type": "code",
      "source": [
        "#Pegando o valor de cada chave 123, 758\n",
        "score_123 = credito['123']\n",
        "score_758 = credito['758']\n",
        "\n",
        "print(score_123)\n",
        "print(score_758)"
      ],
      "metadata": {
        "colab": {
          "base_uri": "https://localhost:8080/"
        },
        "id": "hgAxGcA7Eliu",
        "outputId": "127c3e41-4eab-464f-b392-b41d44f63dac"
      },
      "execution_count": 48,
      "outputs": [
        {
          "output_type": "stream",
          "name": "stdout",
          "text": [
            "435\n",
            "990\n"
          ]
        }
      ]
    },
    {
      "cell_type": "code",
      "source": [
        "#Troca de valor do dict 1, 2, 3\n",
        "credito['123'] = 435\n",
        "print(credito)"
      ],
      "metadata": {
        "colab": {
          "base_uri": "https://localhost:8080/"
        },
        "id": "9zUl3I78Euvh",
        "outputId": "687586cd-9e5a-4d31-f637-8cc2b6a359fa"
      },
      "execution_count": 49,
      "outputs": [
        {
          "output_type": "stream",
          "name": "stdout",
          "text": [
            "{'123': 435, '758': 990, '456': 1000}\n"
          ]
        }
      ]
    },
    {
      "cell_type": "code",
      "source": [
        "#Adicionando uma chave e o valor da chave.\n",
        "credito['456'] = 1000\n",
        "print(credito)"
      ],
      "metadata": {
        "colab": {
          "base_uri": "https://localhost:8080/"
        },
        "id": "Ha_VynpbE834",
        "outputId": "b2265cab-65cb-4888-fc87-f2a3a114b3b3"
      },
      "execution_count": 50,
      "outputs": [
        {
          "output_type": "stream",
          "name": "stdout",
          "text": [
            "{'123': 435, '758': 990, '456': 1000}\n"
          ]
        }
      ]
    },
    {
      "cell_type": "markdown",
      "source": [
        "Métodos"
      ],
      "metadata": {
        "id": "Oe1bU1RwF8RG"
      }
    },
    {
      "cell_type": "code",
      "source": [
        "artigo = dict(\n",
        "    titulo='Modulo 02 | Python: Estruturas de Dados',\n",
        "    corpo='Topicos, Aulas, Listas, Conjuntos, Dicionários, ...',\n",
        "    total_caracteres=1530\n",
        ")"
      ],
      "metadata": {
        "id": "5ebRRO2KF6iK"
      },
      "execution_count": 59,
      "outputs": []
    },
    {
      "cell_type": "code",
      "source": [
        "# adicionar/atualizar um elemento pelo chave-valor: dict.update(dict)\n",
        "print(artigo)\n",
        "artigo.update({'total_caracteres': 7850})\n",
        "print(artigo)"
      ],
      "metadata": {
        "colab": {
          "base_uri": "https://localhost:8080/"
        },
        "id": "h8AY7SKmGGTl",
        "outputId": "9493d713-5c8f-4ca4-b00b-47526a839a31"
      },
      "execution_count": 52,
      "outputs": [
        {
          "output_type": "stream",
          "name": "stdout",
          "text": [
            "{'titulo': 'Modulo 02 | Python: Estruturas de Dados', 'corpo': 'Topicos, Aulas, Listas, Conjuntos, Dicionários, ...', 'total_caracteres': 1530}\n",
            "{'titulo': 'Modulo 02 | Python: Estruturas de Dados', 'corpo': 'Topicos, Aulas, Listas, Conjuntos, Dicionários, ...', 'total_caracteres': 7850}\n"
          ]
        }
      ]
    },
    {
      "cell_type": "code",
      "source": [
        "# remover um elemento pelo chave: dict.pop(key)\n",
        "print(artigo)\n",
        "total_caracteres = artigo.pop('total_caracteres')\n",
        "print(artigo)"
      ],
      "metadata": {
        "colab": {
          "base_uri": "https://localhost:8080/"
        },
        "id": "_0q7JDMuGmeE",
        "outputId": "f5e4c50b-7aaf-49b3-f39f-b40b4dcc6f63"
      },
      "execution_count": 60,
      "outputs": [
        {
          "output_type": "stream",
          "name": "stdout",
          "text": [
            "{'titulo': 'Modulo 02 | Python: Estruturas de Dados', 'corpo': 'Topicos, Aulas, Listas, Conjuntos, Dicionários, ...', 'total_caracteres': 1530}\n",
            "{'titulo': 'Modulo 02 | Python: Estruturas de Dados', 'corpo': 'Topicos, Aulas, Listas, Conjuntos, Dicionários, ...'}\n"
          ]
        }
      ]
    },
    {
      "cell_type": "code",
      "source": [
        "artigo = dict(\n",
        "    titulo='Modulo 02 | Python: Estruturas de Dados',\n",
        "    corpo='Topicos, Aulas, Listas, Conjuntos, Dicionários, ...',\n",
        "    total_caracteres=1530\n",
        ")"
      ],
      "metadata": {
        "id": "0dl_pauwHg6K"
      },
      "execution_count": 61,
      "outputs": []
    },
    {
      "cell_type": "code",
      "source": [
        "#pegando os valores das CHAVES no dicionário. \n",
        "chaves = list(artigo.keys())\n",
        "print(chaves)\n",
        "print(type(chaves))"
      ],
      "metadata": {
        "colab": {
          "base_uri": "https://localhost:8080/"
        },
        "id": "ccmtmH4HH9mP",
        "outputId": "d6139b55-d980-42fd-f976-87130ea8e520"
      },
      "execution_count": 66,
      "outputs": [
        {
          "output_type": "stream",
          "name": "stdout",
          "text": [
            "['titulo', 'corpo', 'total_caracteres']\n",
            "<class 'list'>\n"
          ]
        }
      ]
    },
    {
      "cell_type": "code",
      "source": [
        "#Para pegar os valores desse dicionário\n",
        "valores = list(artigo.values())\n",
        "print(valores)\n",
        "print(type(valores))"
      ],
      "metadata": {
        "colab": {
          "base_uri": "https://localhost:8080/"
        },
        "id": "vXSjrox4IDc4",
        "outputId": "ff876edf-b770-4111-878a-608e5811a450"
      },
      "execution_count": 67,
      "outputs": [
        {
          "output_type": "stream",
          "name": "stdout",
          "text": [
            "['Modulo 02 | Python: Estruturas de Dados', 'Topicos, Aulas, Listas, Conjuntos, Dicionários, ...', 1530]\n",
            "<class 'list'>\n"
          ]
        }
      ]
    },
    {
      "cell_type": "markdown",
      "source": [
        " Revisitando a motivação"
      ],
      "metadata": {
        "id": "TRK2sMdkJAuR"
      }
    },
    {
      "cell_type": "code",
      "source": [
        "wifi_disponiveis = [] #criando uma lista vazia\n",
        "\n",
        "rede = {'nome': 'rede1', 'senha': 'cnx_cnx'}\n",
        "wifi_disponiveis.append(rede)"
      ],
      "metadata": {
        "id": "Z9yRAz92Ivcz"
      },
      "execution_count": 71,
      "outputs": []
    },
    {
      "cell_type": "code",
      "source": [
        "rede = {'nome': 'uai-fi', 'senha': 'r3d3'}\n",
        "wifi_disponiveis.append(rede)\n",
        "print(wifi_disponiveis)"
      ],
      "metadata": {
        "colab": {
          "base_uri": "https://localhost:8080/"
        },
        "id": "93ixlwfNJypT",
        "outputId": "adb6dc10-3b1c-4877-a24f-49dfab13a2a3"
      },
      "execution_count": 72,
      "outputs": [
        {
          "output_type": "stream",
          "name": "stdout",
          "text": [
            "[{'nome': 'rede1', 'senha': 'cnx_cnx'}, {'nome': 'uai-fi', 'senha': 'r3d3'}]\n"
          ]
        }
      ]
    },
    {
      "cell_type": "code",
      "source": [
        "juros = [0.05, 0.07, 0.02, 0.04, 0.08]\n",
        "print(juros)\n",
        "# inserir um elemento sem substituir: list.insert(index, val)\n",
        "juros.insert(0, 0.10)\n",
        "print(juros)"
      ],
      "metadata": {
        "colab": {
          "base_uri": "https://localhost:8080/"
        },
        "id": "UBVQDZ3BLyGs",
        "outputId": "5c8e587a-4c9f-4a6a-9b5b-ff3a5b3b64a5"
      },
      "execution_count": 73,
      "outputs": [
        {
          "output_type": "stream",
          "name": "stdout",
          "text": [
            "[0.05, 0.07, 0.02, 0.04, 0.08]\n",
            "[0.1, 0.05, 0.07, 0.02, 0.04, 0.08]\n"
          ]
        }
      ]
    }
  ]
}