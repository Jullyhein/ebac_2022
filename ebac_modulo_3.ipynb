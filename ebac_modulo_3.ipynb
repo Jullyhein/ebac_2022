{
  "nbformat": 4,
  "nbformat_minor": 0,
  "metadata": {
    "colab": {
      "provenance": [],
      "authorship_tag": "ABX9TyMnvQqbw8JwzJHgAvnhmfXn",
      "include_colab_link": true
    },
    "kernelspec": {
      "name": "python3",
      "display_name": "Python 3"
    },
    "language_info": {
      "name": "python"
    }
  },
  "cells": [
    {
      "cell_type": "markdown",
      "metadata": {
        "id": "view-in-github",
        "colab_type": "text"
      },
      "source": [
        "<a href=\"https://colab.research.google.com/github/Jullyhein/ebac_2022/blob/main/ebac_modulo_3.ipynb\" target=\"_parent\"><img src=\"https://colab.research.google.com/assets/colab-badge.svg\" alt=\"Open In Colab\"/></a>"
      ]
    },
    {
      "cell_type": "markdown",
      "source": [
        "Estrutura condicional if/else/elif"
      ],
      "metadata": {
        "id": "WMGCE8xITock"
      }
    },
    {
      "cell_type": "code",
      "execution_count": 3,
      "metadata": {
        "colab": {
          "base_uri": "https://localhost:8080/"
        },
        "id": "rIyo68DzTI9s",
        "outputId": "7cc073fa-1e5b-48f9-f73c-81d345d8a68a"
      },
      "outputs": [
        {
          "output_type": "stream",
          "name": "stdout",
          "text": [
            "False\n"
          ]
        }
      ],
      "source": [
        "codigo_seguranca01 = '000'\n",
        "codigo_seguranca = '010' \n",
        "\n",
        "pode_efetuar_pag = codigo_seguranca == codigo_seguranca01\n",
        "print(pode_efetuar_pag)"
      ]
    },
    {
      "cell_type": "code",
      "source": [
        "if pode_efetuar_pag:\n",
        "  print('Pagamento efetuado')\n",
        "else:\n",
        "  print('Erro: codigo de segurança inválido')"
      ],
      "metadata": {
        "colab": {
          "base_uri": "https://localhost:8080/"
        },
        "id": "t-XmT1WYVDUw",
        "outputId": "a51c6973-d3e1-4692-8fb6-4c501ca45bf7"
      },
      "execution_count": 4,
      "outputs": [
        {
          "output_type": "stream",
          "name": "stdout",
          "text": [
            "Erro: codigo de segurança inválido\n"
          ]
        }
      ]
    },
    {
      "cell_type": "code",
      "source": [
        "codigo_seguranca02 = '852'\n",
        "c_seguranca = '550'\n",
        "\n",
        "senha = '123456'\n",
        "senha_cadastro = '123456'\n"
      ],
      "metadata": {
        "id": "Xo7tf9CnVc4c"
      },
      "execution_count": 5,
      "outputs": []
    },
    {
      "cell_type": "code",
      "source": [
        "if (codigo_seguranca02 == c_seguranca) & (senha == senha_cadastro):\n",
        "  print('Pagamento efetuado')\n",
        "else:\n",
        "  print('Erro: codigo de segurança inválido')"
      ],
      "metadata": {
        "colab": {
          "base_uri": "https://localhost:8080/"
        },
        "id": "6ipMuEXqWZxt",
        "outputId": "2626ba2e-45af-4bbf-da10-278efca51b82"
      },
      "execution_count": 6,
      "outputs": [
        {
          "output_type": "stream",
          "name": "stdout",
          "text": [
            "Erro: codigo de segurança inválido\n"
          ]
        }
      ]
    },
    {
      "cell_type": "code",
      "source": [
        "if (codigo_seguranca02 != c_seguranca) | (senha != senha_cadastro):\n",
        "  print('Pagamento efetuado')\n",
        "else:\n",
        "  print('Erro: codigo de segurança inválido')"
      ],
      "metadata": {
        "colab": {
          "base_uri": "https://localhost:8080/"
        },
        "id": "p4btkGCJWssX",
        "outputId": "8b6f51a3-6537-4fe0-8391-0650fa53b377"
      },
      "execution_count": 7,
      "outputs": [
        {
          "output_type": "stream",
          "name": "stdout",
          "text": [
            "Pagamento efetuado\n"
          ]
        }
      ]
    },
    {
      "cell_type": "code",
      "source": [
        "if (codigo_seguranca02 != c_seguranca) & (senha != senha_cadastro):\n",
        "  print('Pagamento efetuado')\n",
        "elif(codigo_seguranca02 != c_seguranca) & (senha == senha_cadastro):\n",
        "  print(\"Erro: Código de segurança inválido\")\n",
        "elif(codigo_seguranca02 == c_seguranca) & (senha != senha_cadastro):\n",
        "  print(\"Erro: senha inválida\")\n",
        "else:\n",
        "  print('Erro: codigo de segurança e senha inválidos')"
      ],
      "metadata": {
        "colab": {
          "base_uri": "https://localhost:8080/"
        },
        "id": "ZLn4azhEX7fK",
        "outputId": "dfc6747f-8f67-4557-c37b-53e65d049fce"
      },
      "execution_count": 8,
      "outputs": [
        {
          "output_type": "stream",
          "name": "stdout",
          "text": [
            "Erro: Código de segurança inválido\n"
          ]
        }
      ]
    },
    {
      "cell_type": "markdown",
      "source": [
        "Estrutura condicional try/ except/ finally\n"
      ],
      "metadata": {
        "id": "OxF0TTwaYkk7"
      }
    },
    {
      "cell_type": "code",
      "source": [
        "preco = 132.85\n",
        "pessoas = 3\n",
        "\n",
        "try:\n",
        "  valor_por_pessoa = preco / pessoas\n",
        "  print(valor_por_pessoa)\n",
        "\n",
        "except ZeroDivisionError:\n",
        "  print('Número de pessoas inválido. Espera-se um valor maior que o 0 e obteve-se um valor igual a a '+str(pessoas))"
      ],
      "metadata": {
        "colab": {
          "base_uri": "https://localhost:8080/"
        },
        "id": "sxt_EWUZYkum",
        "outputId": "dc8b8750-74e1-4833-efdf-5299005cfe41"
      },
      "execution_count": 10,
      "outputs": [
        {
          "output_type": "stream",
          "name": "stdout",
          "text": [
            "44.28333333333333\n"
          ]
        }
      ]
    },
    {
      "cell_type": "code",
      "source": [
        "anos = [2019, 2020, 2021]\n",
        "\n",
        "try:\n",
        "  ano_Atual = anos[3]\n",
        "  print(ano_Atual)\n",
        "except Exception:\n",
        "  print('Lista de anos é menor que o valor escolhido. Espera-se um valor entre 0 e ' +str(len(anos) -1))\n"
      ],
      "metadata": {
        "colab": {
          "base_uri": "https://localhost:8080/"
        },
        "id": "GxQ83BHobtch",
        "outputId": "51514a78-fbea-46ac-9619-3be8c35cef32"
      },
      "execution_count": 13,
      "outputs": [
        {
          "output_type": "stream",
          "name": "stdout",
          "text": [
            "Lista de anos é menor que o valor escolhido. Espera-se um valor entre 0 e 2\n"
          ]
        }
      ]
    },
    {
      "cell_type": "code",
      "source": [
        "anos = [2019, 2020, 2021]\n",
        "\n",
        "try:\n",
        "  ano_Atual = anos[3]\n",
        "  print(ano_Atual)\n",
        "except Exception as exc:\n",
        "  print('Descrição da exceção: ' +str(exc))\n",
        "  print('Tipo da exceção: ' +str(type(exc)))\n",
        "  print('Lista de anos é menor que o valor escolhido. Espera-se um valor entre 0 e ' +str(len(anos) -1))\n"
      ],
      "metadata": {
        "colab": {
          "base_uri": "https://localhost:8080/"
        },
        "id": "_L2xIyP7cok2",
        "outputId": "479ae0e5-4bd5-4538-9dd1-9f22a194fdb8"
      },
      "execution_count": 14,
      "outputs": [
        {
          "output_type": "stream",
          "name": "stdout",
          "text": [
            "Descrição da exceção: list index out of range\n",
            "Tipo da exceção: <class 'IndexError'>\n",
            "Lista de anos é menor que o valor escolhido. Espera-se um valor entre 0 e 2\n"
          ]
        }
      ]
    },
    {
      "cell_type": "markdown",
      "source": [
        "Try/ except / finally"
      ],
      "metadata": {
        "id": "3lv1P-vJdZJZ"
      }
    },
    {
      "cell_type": "code",
      "source": [
        "nome = 'Jullyen Soares'\n",
        "idade = 29\n",
        "\n",
        "try: \n",
        "  apresentacao = \"Olá pessoal, meu nome é \" + nome + ' e eu tenho ' +idade + 'anos'\n",
        "  print(apresentacao)\n",
        "except TypeError:\n",
        "  idade = str(idade)\n",
        "finally: \n",
        "  print('Segunda chance')\n",
        "  apresentacao = 'Olá pessoal, meu nome é ' + nome + ' e eu tenho ' + idade + ' anos'\n",
        "  print(apresentacao)"
      ],
      "metadata": {
        "colab": {
          "base_uri": "https://localhost:8080/"
        },
        "id": "vHt9msqTdCbz",
        "outputId": "ac848d01-c476-4e17-eb2b-4b15e3ac7263"
      },
      "execution_count": 20,
      "outputs": [
        {
          "output_type": "stream",
          "name": "stdout",
          "text": [
            "Segunda chance\n",
            "Olá pessoal, meu nome é Jullyen Soares e eu tenho 29 anos\n"
          ]
        }
      ]
    },
    {
      "cell_type": "markdown",
      "source": [
        "Estrutura de repetição fot/in"
      ],
      "metadata": {
        "id": "zuMIa98oe1sh"
      }
    },
    {
      "cell_type": "code",
      "source": [
        "soma = 0\n",
        "for valor in range (0,10):\n",
        "  soma = soma + valor\n",
        "  print(valor)\n",
        "\n",
        "print(valor)\n"
      ],
      "metadata": {
        "colab": {
          "base_uri": "https://localhost:8080/"
        },
        "id": "zcNzGTgse1ih",
        "outputId": "2fd017d3-1625-43ee-b1d0-3ba812aa2aae"
      },
      "execution_count": 22,
      "outputs": [
        {
          "output_type": "stream",
          "name": "stdout",
          "text": [
            "0\n",
            "1\n",
            "2\n",
            "3\n",
            "4\n",
            "5\n",
            "6\n",
            "7\n",
            "8\n",
            "9\n",
            "9\n"
          ]
        }
      ]
    },
    {
      "cell_type": "code",
      "source": [
        "for multiplo_dois in range (2, 10, 2): #vai do 2 até o 9, de dois em dois.\n",
        "  print(multiplo_dois)"
      ],
      "metadata": {
        "colab": {
          "base_uri": "https://localhost:8080/"
        },
        "id": "tT_4K6n_gxFB",
        "outputId": "5ea7ca61-47a6-4874-833c-85227db3318b"
      },
      "execution_count": 23,
      "outputs": [
        {
          "output_type": "stream",
          "name": "stdout",
          "text": [
            "2\n",
            "4\n",
            "6\n",
            "8\n"
          ]
        }
      ]
    },
    {
      "cell_type": "markdown",
      "source": [
        "for / in/ list"
      ],
      "metadata": {
        "id": "iLlAsbX0hHH6"
      }
    },
    {
      "cell_type": "code",
      "source": [
        "frutas = ['maca', 'banana', 'laranja', 'uva', 'pera']\n",
        "\n",
        "for fruta in frutas:\n",
        "  print(fruta)"
      ],
      "metadata": {
        "colab": {
          "base_uri": "https://localhost:8080/"
        },
        "id": "oVzTY_2vgdGw",
        "outputId": "1478c292-f5e5-42e9-ee5d-73765c42e06a"
      },
      "execution_count": 24,
      "outputs": [
        {
          "output_type": "stream",
          "name": "stdout",
          "text": [
            "maca\n",
            "banana\n",
            "laranja\n",
            "uva\n",
            "pera\n"
          ]
        }
      ]
    },
    {
      "cell_type": "code",
      "source": [
        "frase = 'Fala pessoal, meu nome é André Perez'\n",
        "\n",
        "for caracter in frase:\n",
        "  if (caracter == 'A') | (caracter == 'z'):\n",
        "    print(f\"A letra '{caracter}' está presente na frase.\")"
      ],
      "metadata": {
        "colab": {
          "base_uri": "https://localhost:8080/"
        },
        "id": "JnxipOKDikmx",
        "outputId": "cc57d0c2-d86a-466f-8be3-1f1d3fdc3962"
      },
      "execution_count": 25,
      "outputs": [
        {
          "output_type": "stream",
          "name": "stdout",
          "text": [
            "A letra 'A' está presente na frase.\n",
            "A letra 'z' está presente na frase.\n"
          ]
        }
      ]
    },
    {
      "cell_type": "markdown",
      "source": [
        "for / in/ dict"
      ],
      "metadata": {
        "id": "el7nyw1Ni5lc"
      }
    },
    {
      "cell_type": "code",
      "source": [
        "credito = {'123': 750, '456': 812, '789': 980}"
      ],
      "metadata": {
        "id": "ZPPGPjUWikwb"
      },
      "execution_count": 27,
      "outputs": []
    },
    {
      "cell_type": "code",
      "source": [
        "for chave, valor in credito.items():\n",
        "  print(f'Para o documento {chave}, o valor do score de crédito é {valor}.')\n",
        "  print('\\n')"
      ],
      "metadata": {
        "colab": {
          "base_uri": "https://localhost:8080/"
        },
        "id": "lokh3Ym3iulY",
        "outputId": "8fdc65b8-1bc9-4fd2-ecd3-369e64b1cbad"
      },
      "execution_count": 28,
      "outputs": [
        {
          "output_type": "stream",
          "name": "stdout",
          "text": [
            "Para o documento 123, o valor do score de crédito é 750.\n",
            "\n",
            "\n",
            "Para o documento 456, o valor do score de crédito é 812.\n",
            "\n",
            "\n",
            "Para o documento 789, o valor do score de crédito é 980.\n",
            "\n",
            "\n"
          ]
        }
      ]
    },
    {
      "cell_type": "code",
      "source": [
        "for chave in credito.keys():\n",
        "  print(chave)\n",
        "  print(credito[chave])\n",
        "  print(f'Para o documento {chave}, o valor do score de crédito é {valor}.')\n",
        "  print('\\n')"
      ],
      "metadata": {
        "colab": {
          "base_uri": "https://localhost:8080/"
        },
        "id": "i7bHCGgHjVjB",
        "outputId": "45538680-af68-46db-a46c-6a4085390ff4"
      },
      "execution_count": 29,
      "outputs": [
        {
          "output_type": "stream",
          "name": "stdout",
          "text": [
            "123\n",
            "750\n",
            "Para o documento 123, o valor do score de crédito é 980.\n",
            "\n",
            "\n",
            "456\n",
            "812\n",
            "Para o documento 456, o valor do score de crédito é 980.\n",
            "\n",
            "\n",
            "789\n",
            "980\n",
            "Para o documento 789, o valor do score de crédito é 980.\n",
            "\n",
            "\n"
          ]
        }
      ]
    },
    {
      "cell_type": "code",
      "source": [
        "for valor in credito.values():\n",
        "  print(valor)\n",
        "  print(f'O valor do score de crédito é {valor}, mas não temos mais as chaves.')\n",
        "  print('\\n')"
      ],
      "metadata": {
        "colab": {
          "base_uri": "https://localhost:8080/"
        },
        "id": "25mTPT6ik8D3",
        "outputId": "dae4b072-71be-419e-d3e3-61563f9ab624"
      },
      "execution_count": 30,
      "outputs": [
        {
          "output_type": "stream",
          "name": "stdout",
          "text": [
            "750\n",
            "O valor do score de crédito é 750, mas não temos mais as chaves.\n",
            "\n",
            "\n",
            "812\n",
            "O valor do score de crédito é 812, mas não temos mais as chaves.\n",
            "\n",
            "\n",
            "980\n",
            "O valor do score de crédito é 980, mas não temos mais as chaves.\n",
            "\n",
            "\n"
          ]
        }
      ]
    },
    {
      "cell_type": "markdown",
      "source": [
        "BREAK / CONTINUE"
      ],
      "metadata": {
        "id": "jYLA5NTMleSY"
      }
    },
    {
      "cell_type": "code",
      "source": [
        "for i in range (0, 10*10*10*10):\n",
        "  print(i)\n",
        "  if i ==10:\n",
        "    break #sempre estará presente em um loop. Para quebrar laçoes de repetição.  "
      ],
      "metadata": {
        "colab": {
          "base_uri": "https://localhost:8080/"
        },
        "id": "0ZZAYfxllY4H",
        "outputId": "dbe5e1a2-7010-4f40-aaaa-bc1fa930cc7a"
      },
      "execution_count": 32,
      "outputs": [
        {
          "output_type": "stream",
          "name": "stdout",
          "text": [
            "0\n",
            "1\n",
            "2\n",
            "3\n",
            "4\n",
            "5\n",
            "6\n",
            "7\n",
            "8\n",
            "9\n",
            "10\n"
          ]
        }
      ]
    },
    {
      "cell_type": "code",
      "source": [
        "numero = 10\n",
        "\n",
        "if numero % 2 == 0:\n",
        "  print(f'O número {numero} é par')\n",
        "else:\n",
        "  print(f'O número {numero} é ímpar')"
      ],
      "metadata": {
        "colab": {
          "base_uri": "https://localhost:8080/"
        },
        "id": "oRRhG1FGmQYS",
        "outputId": "2043dde1-dbb3-4ac2-eb15-2e76e04ceefe"
      },
      "execution_count": 33,
      "outputs": [
        {
          "output_type": "stream",
          "name": "stdout",
          "text": [
            "O número 10 é par\n"
          ]
        }
      ]
    },
    {
      "cell_type": "code",
      "source": [
        "numeros = [0, 1, 2, 3, 4, 5, 6, 7, 8, 9, 10, 14, 15]\n",
        "\n",
        "for numero in numeros:\n",
        "  if numero % 2 == 0:\n",
        "   print(f'O número {numero} é par')\n",
        "   break\n",
        "  else:\n",
        "    print(f'O número {numero} é ímpar')"
      ],
      "metadata": {
        "colab": {
          "base_uri": "https://localhost:8080/"
        },
        "id": "-bTJAlKim51y",
        "outputId": "2368b8b9-c50c-46cd-de1f-036f4d1342dc"
      },
      "execution_count": 42,
      "outputs": [
        {
          "output_type": "stream",
          "name": "stdout",
          "text": [
            "O número 0 é par\n"
          ]
        }
      ]
    },
    {
      "cell_type": "code",
      "source": [
        "numeros = [0, 1, 2, 3, 4, 10, 14, 15]\n",
        "\n",
        "for numero in numeros:\n",
        "\n",
        "  if numero % 2 == 0:\n",
        "   print(f'O número {numero} é par')\n",
        "   break\n",
        "  else:\n",
        "    continue\n",
        "  print(f'O número {numero} é ímpar')"
      ],
      "metadata": {
        "colab": {
          "base_uri": "https://localhost:8080/"
        },
        "id": "Y6G1chCinkR-",
        "outputId": "3be723b8-d206-4399-d290-90df5cf3ded0"
      },
      "execution_count": 38,
      "outputs": [
        {
          "output_type": "stream",
          "name": "stdout",
          "text": [
            "O número 0 é par\n"
          ]
        }
      ]
    }
  ]
}