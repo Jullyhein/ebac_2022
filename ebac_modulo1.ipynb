{
  "nbformat": 4,
  "nbformat_minor": 0,
  "metadata": {
    "colab": {
      "provenance": [],
      "authorship_tag": "ABX9TyOecqF6tMIp15YYgxmjlcaP",
      "include_colab_link": true
    },
    "kernelspec": {
      "name": "python3",
      "display_name": "Python 3"
    },
    "language_info": {
      "name": "python"
    }
  },
  "cells": [
    {
      "cell_type": "markdown",
      "metadata": {
        "id": "view-in-github",
        "colab_type": "text"
      },
      "source": [
        "<a href=\"https://colab.research.google.com/github/Jullyhein/ebac_2022/blob/main/ebac_modulo1.ipynb\" target=\"_parent\"><img src=\"https://colab.research.google.com/assets/colab-badge.svg\" alt=\"Open In Colab\"/></a>"
      ]
    },
    {
      "cell_type": "markdown",
      "source": [
        "# Exemplo: Total a pagar de um produto"
      ],
      "metadata": {
        "id": "Yzsf3FA8s8aL"
      }
    },
    {
      "cell_type": "code",
      "source": [
        "preco = 47\n",
        "qtd = 0.250\n",
        "\n",
        "total_a_pagar = qtd * preco\n",
        "print(total_a_pagar)"
      ],
      "metadata": {
        "colab": {
          "base_uri": "https://localhost:8080/"
        },
        "id": "REUANESos9E6",
        "outputId": "c8e21e3c-dcb5-4818-af34-39e2b9ba73d7"
      },
      "execution_count": null,
      "outputs": [
        {
          "output_type": "stream",
          "name": "stdout",
          "text": [
            "11.75\n"
          ]
        }
      ]
    },
    {
      "cell_type": "code",
      "source": [
        "a = 3 \n",
        "b = 2\n",
        "\n",
        "c = a / b \n",
        "print (c)\n",
        "print(type(c))\n",
        "\n",
        "d = a // b \n",
        "print(d)\n",
        "print(type(d))"
      ],
      "metadata": {
        "colab": {
          "base_uri": "https://localhost:8080/"
        },
        "id": "uV6M1N8btFKK",
        "outputId": "c014d3ac-0df3-49ba-9f27-cab89774d679"
      },
      "execution_count": null,
      "outputs": [
        {
          "output_type": "stream",
          "name": "stdout",
          "text": [
            "1.5\n",
            "<class 'float'>\n",
            "1\n",
            "<class 'int'>\n"
          ]
        }
      ]
    },
    {
      "cell_type": "markdown",
      "source": [
        "CONVERSÕES\n"
      ],
      "metadata": {
        "id": "UB4kMTc5tk2C"
      }
    },
    {
      "cell_type": "code",
      "source": [
        "print(int(3.9))\n",
        "print(float(10))\n",
        "print(complex(1)) #variavel com duas acompanhantes, uma normal e outra imaginaria que é a letra \"j\"\n"
      ],
      "metadata": {
        "colab": {
          "base_uri": "https://localhost:8080/"
        },
        "id": "cZ8h9u-Dtcsb",
        "outputId": "252170e3-55f5-47f2-80af-ab0a6ca7cbc0"
      },
      "execution_count": null,
      "outputs": [
        {
          "output_type": "stream",
          "name": "stdout",
          "text": [
            "3\n",
            "10.0\n",
            "(1+0j)\n"
          ]
        }
      ]
    },
    {
      "cell_type": "markdown",
      "source": [
        "**REVISITANDO A MOTIVAÇÃO:**\n",
        "\n",
        "19/01 153,98 valor de vendas / 3 qtd total de vendas / ticket médio: ?<br />\n",
        "20/01 153,98 valor de vendas / 7 qtd total de vendas / ticket médio: ?<br />\n",
        "21/01 153,98 valor de vendas / 5 qtd total de vendas / ticket médio: ?"
      ],
      "metadata": {
        "id": "zzb78bhhuO7L"
      }
    },
    {
      "cell_type": "markdown",
      "source": [
        "**Ticket médio diário do dia 19/01**"
      ],
      "metadata": {
        "id": "7sM9mCk6xEF2"
      }
    },
    {
      "cell_type": "code",
      "source": [
        "total_vendas = 153.98\n",
        "qtd_vendas_total = 3\n",
        "ticket_1 = total_vendas / qtd_vendas_total\n",
        "print(ticket_1)"
      ],
      "metadata": {
        "colab": {
          "base_uri": "https://localhost:8080/"
        },
        "id": "Ux7BZb96uCp4",
        "outputId": "dd023745-f30f-46ef-9157-ce2d5fd85084"
      },
      "execution_count": null,
      "outputs": [
        {
          "output_type": "stream",
          "name": "stdout",
          "text": [
            "51.32666666666666\n"
          ]
        }
      ]
    },
    {
      "cell_type": "markdown",
      "source": [
        "\n",
        "**Ticket médio diário do dia 20/01**"
      ],
      "metadata": {
        "id": "vOiW3fymxOcW"
      }
    },
    {
      "cell_type": "code",
      "source": [
        "total_vendas = 153.98\n",
        "qtd_vendas_total = 7\n",
        "ticket_2 = total_vendas / qtd_vendas_total\n",
        "print(ticket_2)"
      ],
      "metadata": {
        "colab": {
          "base_uri": "https://localhost:8080/"
        },
        "id": "m5O1KocFw5rM",
        "outputId": "834a448b-45b1-4139-d016-d13513c3ec7e"
      },
      "execution_count": null,
      "outputs": [
        {
          "output_type": "stream",
          "name": "stdout",
          "text": [
            "21.997142857142855\n"
          ]
        }
      ]
    },
    {
      "cell_type": "markdown",
      "source": [
        "**Ticket médio diário do dia 21/01**\n",
        "\n"
      ],
      "metadata": {
        "id": "SKf_rSZIxBX8"
      }
    },
    {
      "cell_type": "code",
      "source": [
        "total_vendas = 153.98\n",
        "qtd_vendas_total = 5\n",
        "ticket_3 = total_vendas / qtd_vendas_total\n",
        "print(ticket_3)"
      ],
      "metadata": {
        "colab": {
          "base_uri": "https://localhost:8080/"
        },
        "id": "NEBv0ZCiw_TZ",
        "outputId": "10bc09c4-713b-4f29-d0b9-20ead56e3e23"
      },
      "execution_count": null,
      "outputs": [
        {
          "output_type": "stream",
          "name": "stdout",
          "text": [
            "30.796\n"
          ]
        }
      ]
    },
    {
      "cell_type": "code",
      "source": [
        "tkt_medio = (ticket_1 + ticket_2 + ticket_3) / 3\n",
        "print(tkt_medio)"
      ],
      "metadata": {
        "colab": {
          "base_uri": "https://localhost:8080/"
        },
        "id": "jn2uvMb1xgU8",
        "outputId": "0b370c47-ec76-487e-8ada-cb365324a790"
      },
      "execution_count": null,
      "outputs": [
        {
          "output_type": "stream",
          "name": "stdout",
          "text": [
            "34.706603174603174\n"
          ]
        }
      ]
    },
    {
      "cell_type": "code",
      "source": [
        "print('0: ' + email[0])\n",
        "print('11: ' + email[11])"
      ],
      "metadata": {
        "colab": {
          "base_uri": "https://localhost:8080/",
          "height": 184
        },
        "id": "ZFOhS6rcLyZN",
        "outputId": "bfc1c5c7-ba5f-4836-8bca-a83823c08b10"
      },
      "execution_count": null,
      "outputs": [
        {
          "output_type": "error",
          "ename": "NameError",
          "evalue": "ignored",
          "traceback": [
            "\u001b[0;31m---------------------------------------------------------------------------\u001b[0m",
            "\u001b[0;31mNameError\u001b[0m                                 Traceback (most recent call last)",
            "\u001b[0;32m<ipython-input-1-6aff66ba50a6>\u001b[0m in \u001b[0;36m<module>\u001b[0;34m\u001b[0m\n\u001b[0;32m----> 1\u001b[0;31m \u001b[0mprint\u001b[0m\u001b[0;34m(\u001b[0m\u001b[0;34m'0: '\u001b[0m \u001b[0;34m+\u001b[0m \u001b[0memail\u001b[0m\u001b[0;34m[\u001b[0m\u001b[0;36m0\u001b[0m\u001b[0;34m]\u001b[0m\u001b[0;34m)\u001b[0m\u001b[0;34m\u001b[0m\u001b[0;34m\u001b[0m\u001b[0m\n\u001b[0m\u001b[1;32m      2\u001b[0m \u001b[0mprint\u001b[0m\u001b[0;34m(\u001b[0m\u001b[0;34m'11: '\u001b[0m \u001b[0;34m+\u001b[0m \u001b[0memail\u001b[0m\u001b[0;34m[\u001b[0m\u001b[0;36m11\u001b[0m\u001b[0;34m]\u001b[0m\u001b[0;34m)\u001b[0m\u001b[0;34m\u001b[0m\u001b[0;34m\u001b[0m\u001b[0m\n",
            "\u001b[0;31mNameError\u001b[0m: name 'email' is not defined"
          ]
        }
      ]
    },
    {
      "cell_type": "markdown",
      "source": [
        "Fatiamento"
      ],
      "metadata": {
        "id": "UCxPXjpWP5t5"
      }
    },
    {
      "cell_type": "code",
      "source": [
        "email = \"jullyensoares@hotmail.com\"\n",
        "sobrenome = \"Soares\"\n",
        "\n",
        "# print (email [1])\n",
        "# print(sobrenome [4])\n",
        "print(email [0:5])\n"
      ],
      "metadata": {
        "colab": {
          "base_uri": "https://localhost:8080/"
        },
        "id": "KuXPYuk1O7lK",
        "outputId": "e3d8733a-35eb-4517-d089-52dbbb482a47"
      },
      "execution_count": null,
      "outputs": [
        {
          "output_type": "stream",
          "name": "stdout",
          "text": [
            "jully\n"
          ]
        }
      ]
    },
    {
      "cell_type": "markdown",
      "source": [
        "**Para encontrar a variavel (;)**"
      ],
      "metadata": {
        "id": "NJp8Ol2QU1GI"
      }
    },
    {
      "cell_type": "code",
      "source": [
        "latlon = '1019102938'\n",
        "longtlon = '135463537'"
      ],
      "metadata": {
        "id": "L1vgxPegVC31"
      },
      "execution_count": null,
      "outputs": []
    },
    {
      "cell_type": "code",
      "source": [
        "posica_char_divisao = (latlon.find(';'))\n",
        "print(posica_char_divisao)\n",
        "\n"
      ],
      "metadata": {
        "colab": {
          "base_uri": "https://localhost:8080/",
          "height": 201
        },
        "id": "rVaXEDR8TNhv",
        "outputId": "5a9821da-c9ec-4020-d55d-07708e8cc922"
      },
      "execution_count": null,
      "outputs": [
        {
          "output_type": "error",
          "ename": "NameError",
          "evalue": "ignored",
          "traceback": [
            "\u001b[0;31m---------------------------------------------------------------------------\u001b[0m",
            "\u001b[0;31mNameError\u001b[0m                                 Traceback (most recent call last)",
            "\u001b[0;32m<ipython-input-7-e9ebc510c8df>\u001b[0m in \u001b[0;36m<module>\u001b[0;34m\u001b[0m\n\u001b[0;32m----> 1\u001b[0;31m \u001b[0mposica_char_divisao\u001b[0m \u001b[0;34m=\u001b[0m \u001b[0;34m(\u001b[0m\u001b[0mlatlon\u001b[0m\u001b[0;34m.\u001b[0m\u001b[0mfind\u001b[0m\u001b[0;34m(\u001b[0m\u001b[0;34m';'\u001b[0m\u001b[0;34m)\u001b[0m\u001b[0;34m)\u001b[0m\u001b[0;34m\u001b[0m\u001b[0;34m\u001b[0m\u001b[0m\n\u001b[0m\u001b[1;32m      2\u001b[0m \u001b[0mprint\u001b[0m\u001b[0;34m(\u001b[0m\u001b[0mposica_char_divisao\u001b[0m\u001b[0;34m)\u001b[0m\u001b[0;34m\u001b[0m\u001b[0;34m\u001b[0m\u001b[0m\n\u001b[1;32m      3\u001b[0m \u001b[0;34m\u001b[0m\u001b[0m\n",
            "\u001b[0;31mNameError\u001b[0m: name 'latlon' is not defined"
          ]
        }
      ]
    },
    {
      "cell_type": "markdown",
      "source": [
        "Extraindo a LATITUDE\n"
      ],
      "metadata": {
        "id": "zKXy075eTcyI"
      }
    },
    {
      "cell_type": "code",
      "source": [
        "lat_startup = latlon[0: posica_char_divisao]\n",
        "print(lat_startup)"
      ],
      "metadata": {
        "id": "O69c92c0Te_q"
      },
      "execution_count": null,
      "outputs": []
    },
    {
      "cell_type": "markdown",
      "source": [
        "Extraindo a longitude:\n"
      ],
      "metadata": {
        "id": "qHry1GtiT-O7"
      }
    },
    {
      "cell_type": "markdown",
      "source": [
        "MOTIVAÇÃO"
      ],
      "metadata": {
        "id": "S26FFPhVVZLQ"
      }
    },
    {
      "cell_type": "code",
      "source": [
        "usuario = 'andre perez'\n",
        "senha = 'andre123'\n",
        "\n",
        "usuario_cadastro = 'andre.perez'\n",
        "senha_cadastro = 'andre321'"
      ],
      "metadata": {
        "id": "rq5nmQBXT8pP"
      },
      "execution_count": null,
      "outputs": []
    },
    {
      "cell_type": "markdown",
      "source": [
        "COMO COMPARAMOS SE AS STRINGS (USUARIO, USUARIO_CADASTRO E AS SENHAS SAO IGUAIS PARA CONCEDOR OU BLOQUEAR O ACESSO DO USUARIO ? Compare se os dados fornecidos sao iguais aos dados de cadastro\n"
      ],
      "metadata": {
        "id": "bInOA1O0V2zw"
      }
    },
    {
      "cell_type": "code",
      "source": [
        "confirmar_cadastro = usuario == usuario_cadastro\n",
        "confirmar_senha = senha == senha_cadastro\n",
        "\n",
        "print(confirmar_cadastro)\n",
        "print(confirmar_senha)"
      ],
      "metadata": {
        "colab": {
          "base_uri": "https://localhost:8080/"
        },
        "id": "X-3P-UQPV0i6",
        "outputId": "a4f49c2d-ab7b-40da-91e1-0806c6d7cd70"
      },
      "execution_count": null,
      "outputs": [
        {
          "output_type": "stream",
          "name": "stdout",
          "text": [
            "False\n",
            "False\n"
          ]
        }
      ]
    },
    {
      "cell_type": "markdown",
      "source": [
        "Decide se concede acesso: para tomar qualquer conclusão usar os operadores logicos"
      ],
      "metadata": {
        "id": "QYJbBBFWbnt_"
      }
    },
    {
      "cell_type": "code",
      "source": [
        "conceder_acesso = confirmar_cadastro & confirmar_senha\n",
        "print(conceder_acesso)"
      ],
      "metadata": {
        "colab": {
          "base_uri": "https://localhost:8080/"
        },
        "id": "JSDHbUn0bujw",
        "outputId": "5159d97b-455a-4307-8c84-170184eaa74f"
      },
      "execution_count": null,
      "outputs": [
        {
          "output_type": "stream",
          "name": "stdout",
          "text": [
            "False\n"
          ]
        }
      ]
    },
    {
      "cell_type": "markdown",
      "source": [
        "comparativos Exemplo caixa eletronico\n"
      ],
      "metadata": {
        "id": "r5tiNMTsXDix"
      }
    },
    {
      "cell_type": "code",
      "source": [
        "saldo_conta = 200\n",
        "valor_saque = 500\n",
        "\n",
        "pode_executar_saque = valor_saque <= saldo_conta #perguntando se o valor do saque é menor igual ao saldo da conta. \n",
        "print(pode_executar_saque)"
      ],
      "metadata": {
        "colab": {
          "base_uri": "https://localhost:8080/"
        },
        "id": "mw2xB1OaXGjK",
        "outputId": "7a6d64bb-ad39-4ebd-bf79-e07b576146d5"
      },
      "execution_count": null,
      "outputs": [
        {
          "output_type": "stream",
          "name": "stdout",
          "text": [
            "False\n"
          ]
        }
      ]
    },
    {
      "cell_type": "markdown",
      "source": [
        "CARTÃO DE CREDITO:"
      ],
      "metadata": {
        "id": "3qPg0I_iYB58"
      }
    },
    {
      "cell_type": "code",
      "source": [
        "codigo_seguranca = '889'\n",
        "codigo_seguranca_cadastro = '889'\n",
        "\n",
        "podeefetuar_pagamento = codigo_seguranca == codigo_seguranca_cadastro\n",
        "if podeefetuar_pagamento == True:\n",
        "  print(f'Olá, deu tudo certo, poderemos seguir com sua compra')\n",
        "\n",
        "else: \n",
        "  print(f'Código incorreto, tente novamente')"
      ],
      "metadata": {
        "colab": {
          "base_uri": "https://localhost:8080/"
        },
        "id": "Z6Jf1DH7YELA",
        "outputId": "05448746-1e69-4ab5-d134-21f0f499482a"
      },
      "execution_count": null,
      "outputs": [
        {
          "output_type": "stream",
          "name": "stdout",
          "text": [
            "Olá, deu tudo certo, poderemos seguir com sua compra\n"
          ]
        }
      ]
    },
    {
      "cell_type": "markdown",
      "source": [
        "Tabela da verdade: OU, E NÃO"
      ],
      "metadata": {
        "id": "xVX5OvGsY4fC"
      }
    },
    {
      "cell_type": "code",
      "source": [],
      "metadata": {
        "id": "T1AIDI-gY-oZ"
      },
      "execution_count": null,
      "outputs": []
    }
  ]
}