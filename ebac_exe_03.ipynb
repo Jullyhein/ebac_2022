{
  "nbformat": 4,
  "nbformat_minor": 0,
  "metadata": {
    "colab": {
      "provenance": [],
      "authorship_tag": "ABX9TyNH8JtvseXGUgjDqS6mWdYn",
      "include_colab_link": true
    },
    "kernelspec": {
      "name": "python3",
      "display_name": "Python 3"
    },
    "language_info": {
      "name": "python"
    }
  },
  "cells": [
    {
      "cell_type": "markdown",
      "metadata": {
        "id": "view-in-github",
        "colab_type": "text"
      },
      "source": [
        "<a href=\"https://colab.research.google.com/github/Jullyhein/ebac_2022/blob/main/ebac_exe_03.ipynb\" target=\"_parent\"><img src=\"https://colab.research.google.com/assets/colab-badge.svg\" alt=\"Open In Colab\"/></a>"
      ]
    },
    {
      "cell_type": "code",
      "execution_count": null,
      "metadata": {
        "id": "Iz5sxRBVxwR5"
      },
      "outputs": [],
      "source": [
        "propaganda_online = [\n",
        " {\n",
        " 'tempo_gasto_site': 68.95, 'idade': 35,\n",
        " 'renda_area': 61833.90, 'tempo_gasto_internet': 256.09,\n",
        " 'cidade': 'Wrightburgh', 'pais': 'Tunisia',\n",
        " 'clicou_no_ad': 0\n",
        " },\n",
        " {\n",
        " 'tempo_gasto_site': 80.23, 'idade': 31,\n",
        " 'renda_area': 68441.85, 'tempo_gasto_internet': 193.77,\n",
        " 'cidade': 'West Jodi', 'pais': 'Nauru',\n",
        " 'clicou_no_ad': 0\n",
        " },\n",
        " {\n",
        " 'tempo_gasto_site': 69.47, 'idade': 26,\n",
        " 'renda_area': 59785.94, 'tempo_gasto_internet': 236.50,\n",
        " 'cidade': 'Davidton', 'pais': 'San Marino',\n",
        " 'clicou_no_ad': 0\n",
        " },\n",
        " {\n",
        " 'tempo_gasto_site': 68.37, 'idade': 35,\n",
        " 'renda_area': 73889.99, 'tempo_gasto_internet': 225.58,\n",
        " 'cidade': 'South Manuel', 'pais': 'Iceland',\n",
        " 'clicou_no_ad': 0\n",
        " },\n",
        " {\n",
        " 'tempo_gasto_site': 88.91, 'idade': 33,\n",
        " 'renda_area': 53852.85, 'tempo_gasto_internet': 208.36,\n",
        " 'cidade': 'Brandonstad', 'pais': 'Myanmar',\n",
        " 'clicou_no_ad': 0\n",
        " },\n",
        " {\n",
        " 'tempo_gasto_site': None, 'idade': 48,\n",
        " 'renda_area': 24593.33, 'tempo_gasto_internet': 131.76,\n",
        " 'cidade': 'Port Jefferybury', 'pais': 'Australia',\n",
        " 'clicou_no_ad': 1\n",
        " },\n",
        " {\n",
        " 'tempo_gasto_site': 74.53, 'idade': 30,\n",
        " 'renda_area': 68862.00, 'tempo_gasto_internet': 221.51,\n",
        " 'cidade': 'West Colin', 'pais': 'Grenada'\n",
        " },\n",
        " {\n",
        " 'tempo_gasto_site': 69.88, 'idade': 20,\n",
        " 'renda_area': 55642.32, 'tempo_gasto_internet': 183.82,\n",
        " 'cidade': 'Ramirezton', 'pais': 'Ghana',\n",
        " 'clicou_no_ad': 0\n",
        " }\n",
        "]"
      ]
    },
    {
      "cell_type": "code",
      "source": [
        "print(type(propaganda_online))"
      ],
      "metadata": {
        "colab": {
          "base_uri": "https://localhost:8080/"
        },
        "id": "oz1o-DD01Tq4",
        "outputId": "ef787fa5-f977-4acc-997c-f4f2f62699c3"
      },
      "execution_count": null,
      "outputs": [
        {
          "output_type": "stream",
          "name": "stdout",
          "text": [
            "<class 'list'>\n"
          ]
        }
      ]
    },
    {
      "cell_type": "code",
      "source": [
        "for dados_usuarios in propaganda_online:\n",
        "  print(dados_usuarios)\n"
      ],
      "metadata": {
        "colab": {
          "base_uri": "https://localhost:8080/"
        },
        "id": "atwfjca_y18U",
        "outputId": "590a0004-7097-4eaf-b328-93f5677475e6"
      },
      "execution_count": null,
      "outputs": [
        {
          "output_type": "stream",
          "name": "stdout",
          "text": [
            "{'tempo_gasto_site': 68.95, 'idade': 35, 'renda_area': 61833.9, 'tempo_gasto_internet': 256.09, 'cidade': 'Wrightburgh', 'pais': 'Tunisia', 'clicou_no_ad': 0}\n",
            "{'tempo_gasto_site': 80.23, 'idade': 31, 'renda_area': 68441.85, 'tempo_gasto_internet': 193.77, 'cidade': 'West Jodi', 'pais': 'Nauru', 'clicou_no_ad': 0}\n",
            "{'tempo_gasto_site': 69.47, 'idade': 26, 'renda_area': 59785.94, 'tempo_gasto_internet': 236.5, 'cidade': 'Davidton', 'pais': 'San Marino', 'clicou_no_ad': 0}\n",
            "{'tempo_gasto_site': 68.37, 'idade': 35, 'renda_area': 73889.99, 'tempo_gasto_internet': 225.58, 'cidade': 'South Manuel', 'pais': 'Iceland', 'clicou_no_ad': 0}\n",
            "{'tempo_gasto_site': 88.91, 'idade': 33, 'renda_area': 53852.85, 'tempo_gasto_internet': 208.36, 'cidade': 'Brandonstad', 'pais': 'Myanmar', 'clicou_no_ad': 0}\n",
            "{'tempo_gasto_site': None, 'idade': 48, 'renda_area': 24593.33, 'tempo_gasto_internet': 131.76, 'cidade': 'Port Jefferybury', 'pais': 'Australia', 'clicou_no_ad': 1}\n",
            "{'tempo_gasto_site': 74.53, 'idade': 30, 'renda_area': 68862.0, 'tempo_gasto_internet': 221.51, 'cidade': 'West Colin', 'pais': 'Grenada'}\n",
            "{'tempo_gasto_site': 69.88, 'idade': 20, 'renda_area': 55642.32, 'tempo_gasto_internet': 183.82, 'cidade': 'Ramirezton', 'pais': 'Ghana', 'clicou_no_ad': 0}\n"
          ]
        }
      ]
    },
    {
      "cell_type": "markdown",
      "source": [
        "exercicio 1 - 1.1. Crie uma lista chamada paises com o pais dos usuários com mais de 30 anos."
      ],
      "metadata": {
        "id": "_QYe2Xhs75KR"
      }
    },
    {
      "cell_type": "markdown",
      "source": [
        "1.2. Crie uma lista chamada leads com a renda dos usuários que clicaram na\n",
        "propaganda."
      ],
      "metadata": {
        "id": "paWlrfed7_C_"
      }
    },
    {
      "cell_type": "code",
      "source": [
        "propaganda_online = [\n",
        " {\n",
        " 'tempo_gasto_site': 68.95, 'idade': 35,\n",
        " 'renda_area': 61833.90, 'tempo_gasto_internet': 256.09,\n",
        " 'cidade': 'Wrightburgh', 'pais': 'Tunisia',\n",
        " 'clicou_no_ad': 0\n",
        " },\n",
        " {\n",
        " 'tempo_gasto_site': 80.23, 'idade': 31,\n",
        " 'renda_area': 68441.85, 'tempo_gasto_internet': 193.77,\n",
        " 'cidade': 'West Jodi', 'pais': 'Nauru',\n",
        " 'clicou_no_ad': 0\n",
        " },\n",
        " {\n",
        " 'tempo_gasto_site': 69.47, 'idade': 26,\n",
        " 'renda_area': 59785.94, 'tempo_gasto_internet': 236.50,\n",
        " 'cidade': 'Davidton', 'pais': 'San Marino',\n",
        " 'clicou_no_ad': 0\n",
        " },\n",
        " {\n",
        " 'tempo_gasto_site': 68.37, 'idade': 35,\n",
        " 'renda_area': 73889.99, 'tempo_gasto_internet': 225.58,\n",
        " 'cidade': 'South Manuel', 'pais': 'Iceland',\n",
        " 'clicou_no_ad': 0\n",
        " },\n",
        " {\n",
        " 'tempo_gasto_site': 88.91, 'idade': 33,\n",
        " 'renda_area': 53852.85, 'tempo_gasto_internet': 208.36,\n",
        " 'cidade': 'Brandonstad', 'pais': 'Myanmar',\n",
        " 'clicou_no_ad': 0\n",
        " },\n",
        " {\n",
        " 'tempo_gasto_site': None, 'idade': 48,\n",
        " 'renda_area': 24593.33, 'tempo_gasto_internet': 131.76,\n",
        " 'cidade': 'Port Jefferybury', 'pais': 'Australia',\n",
        " 'clicou_no_ad': 1\n",
        " },\n",
        " {\n",
        " 'tempo_gasto_site': 74.53, 'idade': 30,\n",
        " 'renda_area': 68862.00, 'tempo_gasto_internet': 221.51,\n",
        " 'cidade': 'West Colin', 'pais': 'Grenada'\n",
        " },\n",
        " {\n",
        " 'tempo_gasto_site': 69.88, 'idade': 20,\n",
        " 'renda_area': 55642.32, 'tempo_gasto_internet': 183.82,\n",
        " 'cidade': 'Ramirezton', 'pais': 'Ghana',\n",
        " 'clicou_no_ad': 0\n",
        " }\n",
        "]\n",
        "\n",
        "print(type(propaganda_online))"
      ],
      "metadata": {
        "colab": {
          "base_uri": "https://localhost:8080/"
        },
        "id": "mWyWtu5iQNT-",
        "outputId": "5fe04fa0-8473-44c6-e376-2100d7f78981"
      },
      "execution_count": 23,
      "outputs": [
        {
          "output_type": "stream",
          "name": "stdout",
          "text": [
            "<class 'list'>\n"
          ]
        }
      ]
    },
    {
      "cell_type": "code",
      "source": [
        "paises = []\n",
        "for dado in propaganda_online:\n",
        "    if dado['idade']>= 30:\n",
        "        paises.append(dado['pais'])\n",
        "    \n",
        "print(paises)"
      ],
      "metadata": {
        "colab": {
          "base_uri": "https://localhost:8080/"
        },
        "id": "EFUQ3SdV8G6E",
        "outputId": "9aaa22c5-96f1-41f7-d2a9-32b5b1ebcdbe"
      },
      "execution_count": 8,
      "outputs": [
        {
          "output_type": "stream",
          "name": "stdout",
          "text": [
            "['Tunisia', 'Nauru', 'Iceland', 'Myanmar', 'Australia', 'Grenada']\n"
          ]
        }
      ]
    },
    {
      "cell_type": "code",
      "source": [
        "leads = []\n",
        " \n",
        "for dado in propaganda_online:\n",
        "  try:\n",
        "    if dado['clicou_no_ad'] > 0:\n",
        "      leads.append(dado['renda_area'])\n",
        "      print(leads)\n",
        "  except Exception:\n",
        "    print('Há usuários cuja informação de clique na propaganda não foi informada')"
      ],
      "metadata": {
        "colab": {
          "base_uri": "https://localhost:8080/"
        },
        "id": "BIeY_wKIoDnY",
        "outputId": "dacc06da-465d-4944-8f0d-3a5c11b988cc"
      },
      "execution_count": 20,
      "outputs": [
        {
          "output_type": "stream",
          "name": "stdout",
          "text": [
            "[24593.33]\n",
            "Há usuários cuja informação de clique na propaganda não foi informada\n"
          ]
        }
      ]
    },
    {
      "cell_type": "markdown",
      "source": [
        "Crie uma lista chamada cidades com a cidade dos usuários que passaram mais de\n",
        "70 segundos no site."
      ],
      "metadata": {
        "id": "aaPmrzVEpAHv"
      }
    },
    {
      "cell_type": "code",
      "source": [
        "cidades = []\n",
        " \n",
        "for dado in propaganda_online:\n",
        "  try:\n",
        "    if dado['tempo_gasto_site'] > 70:\n",
        "      cidades.append(dado['cidade'])\n",
        "      print(dado['cidade'])\n",
        "  except TypeError:\n",
        "    print('Impossível descrever lista completa, pois há usuários com campo de tempo do site nulo.')"
      ],
      "metadata": {
        "colab": {
          "base_uri": "https://localhost:8080/"
        },
        "id": "hZIH6kHso8c4",
        "outputId": "ecf005a0-17a0-42eb-9a19-44ff123df212"
      },
      "execution_count": 25,
      "outputs": [
        {
          "output_type": "stream",
          "name": "stdout",
          "text": [
            "West Jodi\n",
            "Brandonstad\n",
            "Impossível descrever lista completa, pois há usuários com campo de tempo do site nulo.\n",
            "West Colin\n"
          ]
        }
      ]
    },
    {
      "cell_type": "markdown",
      "source": [
        "exersicios guanabara"
      ],
      "metadata": {
        "id": "Mj432NmLaqPq"
      }
    },
    {
      "cell_type": "code",
      "source": [
        "num = [2, 5, 9, 1]\n",
        "num[2] = 3\n",
        "num.append(7)\n",
        "num.sort(reverse=True)\n",
        "num.insert(2, 3)\n",
        "num.remove(5)\n",
        "# num.pop(3)\n",
        "print(num)\n",
        "print(f' Essa lista tem {len(num)} elementos.')"
      ],
      "metadata": {
        "colab": {
          "base_uri": "https://localhost:8080/"
        },
        "id": "v6mgZPZTauJT",
        "outputId": "b80f616f-dab5-436b-ab31-3bbdb0142a2e"
      },
      "execution_count": null,
      "outputs": [
        {
          "output_type": "stream",
          "name": "stdout",
          "text": [
            "[7, 3, 3, 2, 1]\n",
            " Essa lista tem 5 elementos.\n"
          ]
        }
      ]
    },
    {
      "cell_type": "code",
      "source": [
        "valores = []\n",
        "valores.append(5)\n",
        "valores.append(9)\n",
        "valores.append(4)\n",
        "\n",
        "for c, v in enumerate(valores):\n",
        "  print(f'Na posição {c} encontrei o valor {v}! ')\n",
        "print(f'Cheguei ao final da lista')"
      ],
      "metadata": {
        "colab": {
          "base_uri": "https://localhost:8080/"
        },
        "id": "6mA5Zd6Vc7mZ",
        "outputId": "7530a7f9-06b2-48a3-e3c3-7318cd62ce91"
      },
      "execution_count": null,
      "outputs": [
        {
          "output_type": "stream",
          "name": "stdout",
          "text": [
            "Na posição 0 encontrei o valor 5! \n",
            "Na posição 1 encontrei o valor 9! \n",
            "Na posição 2 encontrei o valor 4! \n",
            "Cheguei ao final da lista\n"
          ]
        }
      ]
    },
    {
      "cell_type": "code",
      "source": [
        "a = [2, 3, 4, 7]\n",
        "b = a[:] #Vai criar uma cópia de a para b.\n",
        "b[2] = 8#na lista de 'b'vai substituir o número da posição 2 para número 8\n",
        "print(f'Lista A: {a}')\n",
        "print(f'Lista B: {b}')\n"
      ],
      "metadata": {
        "colab": {
          "base_uri": "https://localhost:8080/"
        },
        "id": "kHXwZf5-eTK4",
        "outputId": "34c82fc2-5280-4220-e30b-43464435db06"
      },
      "execution_count": null,
      "outputs": [
        {
          "output_type": "stream",
          "name": "stdout",
          "text": [
            "Lista A: [2, 3, 4, 7]\n",
            "Lista B: [2, 3, 8, 7]\n"
          ]
        }
      ]
    },
    {
      "cell_type": "markdown",
      "source": [
        "Faça um programa que leia 5 valores núméricos e guarde-as em uma lista. No final, mostre qual foi o maior e o menor valor digitado e as suas respectivas posições na lista. "
      ],
      "metadata": {
        "id": "joU13XIKfOg_"
      }
    },
    {
      "cell_type": "code",
      "source": [],
      "metadata": {
        "id": "dVnoubDxe9a7"
      },
      "execution_count": null,
      "outputs": []
    }
  ]
}